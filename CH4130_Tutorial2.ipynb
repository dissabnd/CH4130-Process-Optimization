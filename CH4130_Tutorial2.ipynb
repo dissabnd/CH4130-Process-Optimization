{
 "cells": [
  {
   "cell_type": "markdown",
   "id": "50387529-939a-45ec-b86e-ba55bfa66d94",
   "metadata": {
    "id": "50387529-939a-45ec-b86e-ba55bfa66d94"
   },
   "source": [
    "<p style=\"font-size:30px; color:black;\">\n",
    "    CH4130 Process Optimization </p>\n",
    "<p style=\"font-size:25px; color:black;\">\n",
    "Tutorial 2: Exploratory Data Analysis (EDA) and Correlations\n",
    "</p>\n",
    "\n",
    "\n",
    "This tutorial is to explore data visualization and correlation analysis using Python. You can use any other tools (even Excel) for this purpose, but Python is highly encouraged.\n",
    "\n",
    "Use vibe coding if you are not not familiar with Python. "
   ]
  },
  {
   "cell_type": "markdown",
   "id": "0db768be-6a62-4af1-babf-b8e3f7669ee5",
   "metadata": {
    "id": "0db768be-6a62-4af1-babf-b8e3f7669ee5"
   },
   "source": [
    "**About Data:**\n",
    "\n",
    "This is a synthetic dataset simulating the yield of a reactor. The variables are; \n",
    "- Temperature\n",
    "- Pressure\n",
    "- Catalyst Concentration\n",
    "- Feed Flow Rate\n",
    "- Catalyst Supplier\n",
    "- Yield"
   ]
  },
  {
   "cell_type": "markdown",
   "id": "cf6ca2dd-9e90-4648-afb9-1d3866a46cfe",
   "metadata": {},
   "source": [
    "# Libraries"
   ]
  },
  {
   "cell_type": "code",
   "execution_count": null,
   "id": "bd105431-d646-42c9-b09b-81cd7e5462d8",
   "metadata": {},
   "outputs": [],
   "source": []
  },
  {
   "cell_type": "markdown",
   "id": "6a9f40a4-9619-4a64-8349-79b7939ab9c5",
   "metadata": {
    "id": "6a9f40a4-9619-4a64-8349-79b7939ab9c5"
   },
   "source": [
    "# Read Reactor Data\n",
    "\n",
    "\n",
    "Data Location: https://raw.githubusercontent.com/dissabnd/CH4130-Process-Optimization/refs/heads/main/data/reactor_data.csv\n",
    "\n",
    "**Prompt:**\n",
    "\n",
    "Load data into df from https://raw.githubusercontent.com/dissabnd/CH4130-Process-Optimization/refs/heads/main/data/reactor_data.csv\n"
   ]
  },
  {
   "cell_type": "markdown",
   "id": "6687e88a-78da-4f9b-be03-f9cedd311bd6",
   "metadata": {
    "id": "6687e88a-78da-4f9b-be03-f9cedd311bd6"
   },
   "source": [
    "# Part 1: Descriptive Stats (mean, median and SD)\n",
    "\n",
    "**Prompt:**\n",
    "\n",
    "Can you give me a python code to generate summary stats of below table? "
   ]
  },
  {
   "cell_type": "markdown",
   "id": "8800de76-5cbf-4351-87de-bdfa6790d1ab",
   "metadata": {
    "id": "8800de76-5cbf-4351-87de-bdfa6790d1ab"
   },
   "source": [
    "# Part 2: Data Visualization\n",
    "\n",
    "## 2.1 Data Distributions with Histogram\n",
    "\n",
    "**Prompt:**\n",
    "\n",
    "Give the python code for below. Generate histogram plots for each variables using seaborn. Create a figure, then do subplots."
   ]
  },
  {
   "cell_type": "markdown",
   "id": "efae3d04-7d84-4092-8078-48c30aad1cbb",
   "metadata": {},
   "source": [
    "## 2.2 Data distributions with box plot\n",
    "\n",
    "**Prompt:**\n",
    "\n",
    "Give the python code for below. Generate box plots for each numerical variables using seaborn. Create a figure, then do subplots."
   ]
  },
  {
   "cell_type": "markdown",
   "id": "5lDSODngFAG2",
   "metadata": {
    "id": "5lDSODngFAG2"
   },
   "source": [
    "## 2.3 Relationship between Reactor Yield and Other Variables\n",
    "\n",
    "### 2.3.1 XY scatter plot\n",
    "\n",
    "**Prompt:**\n",
    "\n",
    "Give the python code for below. Generate xy scatter plot using Yield as y variable and other numerical var as x. Create a figure and then do subplots. Use regplot."
   ]
  },
  {
   "cell_type": "markdown",
   "id": "c6b52dcf-8730-4ce5-92e9-cf59ebff9f3b",
   "metadata": {},
   "source": [
    "### 2.3.2 Yield and Supplier - Bar plot\n",
    "\n",
    "**Prompt:**\n",
    "\n",
    "Create a bar plot using catalyst supplier as x and yiled as y. Use standard error in error bars. Use sns barplot option"
   ]
  },
  {
   "cell_type": "markdown",
   "id": "f9e81fe8-b823-412e-ab88-7c5a954bf8cd",
   "metadata": {},
   "source": [
    "### 2.3.3 Yield and Supplier - Violin plot\n",
    "\n",
    "**Prompt:**\n",
    "\n",
    "Create a violin plot using catalyst supplier as x and yiled as y. Use standard error in error bars. Use sns barplot option"
   ]
  },
  {
   "cell_type": "markdown",
   "id": "357fc7bc-90ab-4281-9a7b-a28ccea87d75",
   "metadata": {
    "id": "357fc7bc-90ab-4281-9a7b-a28ccea87d75"
   },
   "source": [
    "# Part 3: Correlatoin Analysis\n",
    "\n",
    "## 3.1 Pearson correlation\n",
    "\n",
    "**Prompt:**\n",
    "\n",
    "Create correlation matrix using Pearson correlation"
   ]
  },
  {
   "cell_type": "markdown",
   "id": "1250bd47-a4f7-4f2e-b947-6620114c63b0",
   "metadata": {},
   "source": [
    "## 3.2 Correlation heat map\n",
    "\n",
    "**Prompt:**\n",
    "\n",
    "Create the heatmap of the correlations"
   ]
  },
  {
   "cell_type": "code",
   "execution_count": null,
   "id": "43aec16c-aec2-49be-a0bc-8865d17daafb",
   "metadata": {},
   "outputs": [],
   "source": []
  }
 ],
 "metadata": {
  "colab": {
   "provenance": []
  },
  "kernelspec": {
   "display_name": "Python 3 (ipykernel)",
   "language": "python",
   "name": "python3"
  },
  "language_info": {
   "codemirror_mode": {
    "name": "ipython",
    "version": 3
   },
   "file_extension": ".py",
   "mimetype": "text/x-python",
   "name": "python",
   "nbconvert_exporter": "python",
   "pygments_lexer": "ipython3",
   "version": "3.12.11"
  }
 },
 "nbformat": 4,
 "nbformat_minor": 5
}
