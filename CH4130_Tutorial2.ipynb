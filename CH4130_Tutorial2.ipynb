{
 "cells": [
  {
   "cell_type": "markdown",
   "id": "50387529-939a-45ec-b86e-ba55bfa66d94",
   "metadata": {},
   "source": [
    "<p style=\"font-size:30px; color:black;\">\n",
    "    CH4130 Process Optimization </p>\n",
    "<p style=\"font-size:20px; color:black;\">\n",
    "Tutorial 2: Exploratory Data Analysis (EDA) and Correlations\n",
    "</p>\n",
    "\n",
    "\n",
    "This tutorial is to explore data visualization and correlation analysis using Python. You can use any other tools (even Excel) for this purpose, but Python is highly encouraged. \n",
    "\n",
    "Use vibe coding if you are not not familiar with Python"
   ]
  },
  {
   "cell_type": "markdown",
   "id": "0db768be-6a62-4af1-babf-b8e3f7669ee5",
   "metadata": {},
   "source": [
    "**About Data:**\n",
    "\n",
    "This is a synthetic dataset simulating the yield of a reactor. The variables are \n",
    "- Temperature (K)\n",
    "- Pressure (atm)\n",
    "- Flow Rate (L/min)\n",
    "- Catalyst Concentration (mol/L)\n",
    "- Reaction Yield (%)"
   ]
  },
  {
   "cell_type": "markdown",
   "id": "6a9f40a4-9619-4a64-8349-79b7939ab9c5",
   "metadata": {},
   "source": [
    "# Read Reactor Data Data"
   ]
  },
  {
   "cell_type": "code",
   "execution_count": 2,
   "id": "4a5da903-cbf5-4b78-bced-d00e9ba1e614",
   "metadata": {},
   "outputs": [],
   "source": [
    "import pandas as pd"
   ]
  },
  {
   "cell_type": "code",
   "execution_count": 3,
   "id": "ad9739e5-d678-43ae-aa0e-0d473bf872c4",
   "metadata": {},
   "outputs": [
    {
     "data": {
      "text/html": [
       "<div>\n",
       "<style scoped>\n",
       "    .dataframe tbody tr th:only-of-type {\n",
       "        vertical-align: middle;\n",
       "    }\n",
       "\n",
       "    .dataframe tbody tr th {\n",
       "        vertical-align: top;\n",
       "    }\n",
       "\n",
       "    .dataframe thead th {\n",
       "        text-align: right;\n",
       "    }\n",
       "</style>\n",
       "<table border=\"1\" class=\"dataframe\">\n",
       "  <thead>\n",
       "    <tr style=\"text-align: right;\">\n",
       "      <th></th>\n",
       "      <th>Temperature (K)</th>\n",
       "      <th>Pressure (atm)</th>\n",
       "      <th>Flow Rate (L/min)</th>\n",
       "      <th>Catalyst Concentration (mol/L)</th>\n",
       "      <th>Reaction Yield (%)</th>\n",
       "    </tr>\n",
       "  </thead>\n",
       "  <tbody>\n",
       "    <tr>\n",
       "      <th>0</th>\n",
       "      <td>359.93</td>\n",
       "      <td>3.58</td>\n",
       "      <td>103.58</td>\n",
       "      <td>0.21</td>\n",
       "      <td>81.82</td>\n",
       "    </tr>\n",
       "    <tr>\n",
       "      <th>1</th>\n",
       "      <td>347.23</td>\n",
       "      <td>4.58</td>\n",
       "      <td>105.61</td>\n",
       "      <td>0.17</td>\n",
       "      <td>50.77</td>\n",
       "    </tr>\n",
       "    <tr>\n",
       "      <th>2</th>\n",
       "      <td>362.95</td>\n",
       "      <td>4.66</td>\n",
       "      <td>110.83</td>\n",
       "      <td>0.40</td>\n",
       "      <td>65.74</td>\n",
       "    </tr>\n",
       "    <tr>\n",
       "      <th>3</th>\n",
       "      <td>380.46</td>\n",
       "      <td>4.20</td>\n",
       "      <td>110.54</td>\n",
       "      <td>0.42</td>\n",
       "      <td>80.19</td>\n",
       "    </tr>\n",
       "    <tr>\n",
       "      <th>4</th>\n",
       "      <td>345.32</td>\n",
       "      <td>4.84</td>\n",
       "      <td>86.22</td>\n",
       "      <td>0.50</td>\n",
       "      <td>47.93</td>\n",
       "    </tr>\n",
       "    <tr>\n",
       "      <th>...</th>\n",
       "      <td>...</td>\n",
       "      <td>...</td>\n",
       "      <td>...</td>\n",
       "      <td>...</td>\n",
       "      <td>...</td>\n",
       "    </tr>\n",
       "    <tr>\n",
       "      <th>95</th>\n",
       "      <td>320.73</td>\n",
       "      <td>5.39</td>\n",
       "      <td>93.07</td>\n",
       "      <td>0.38</td>\n",
       "      <td>54.75</td>\n",
       "    </tr>\n",
       "    <tr>\n",
       "      <th>96</th>\n",
       "      <td>355.92</td>\n",
       "      <td>4.12</td>\n",
       "      <td>109.00</td>\n",
       "      <td>0.28</td>\n",
       "      <td>76.35</td>\n",
       "    </tr>\n",
       "    <tr>\n",
       "      <th>97</th>\n",
       "      <td>355.22</td>\n",
       "      <td>5.15</td>\n",
       "      <td>103.07</td>\n",
       "      <td>0.35</td>\n",
       "      <td>66.31</td>\n",
       "    </tr>\n",
       "    <tr>\n",
       "      <th>98</th>\n",
       "      <td>350.10</td>\n",
       "      <td>5.06</td>\n",
       "      <td>108.13</td>\n",
       "      <td>0.33</td>\n",
       "      <td>67.39</td>\n",
       "    </tr>\n",
       "    <tr>\n",
       "      <th>99</th>\n",
       "      <td>345.31</td>\n",
       "      <td>3.86</td>\n",
       "      <td>106.30</td>\n",
       "      <td>0.46</td>\n",
       "      <td>60.12</td>\n",
       "    </tr>\n",
       "  </tbody>\n",
       "</table>\n",
       "<p>100 rows × 5 columns</p>\n",
       "</div>"
      ],
      "text/plain": [
       "    Temperature (K)  Pressure (atm)  Flow Rate (L/min)  \\\n",
       "0            359.93            3.58             103.58   \n",
       "1            347.23            4.58             105.61   \n",
       "2            362.95            4.66             110.83   \n",
       "3            380.46            4.20             110.54   \n",
       "4            345.32            4.84              86.22   \n",
       "..              ...             ...                ...   \n",
       "95           320.73            5.39              93.07   \n",
       "96           355.92            4.12             109.00   \n",
       "97           355.22            5.15             103.07   \n",
       "98           350.10            5.06             108.13   \n",
       "99           345.31            3.86             106.30   \n",
       "\n",
       "    Catalyst Concentration (mol/L)  Reaction Yield (%)  \n",
       "0                             0.21               81.82  \n",
       "1                             0.17               50.77  \n",
       "2                             0.40               65.74  \n",
       "3                             0.42               80.19  \n",
       "4                             0.50               47.93  \n",
       "..                             ...                 ...  \n",
       "95                            0.38               54.75  \n",
       "96                            0.28               76.35  \n",
       "97                            0.35               66.31  \n",
       "98                            0.33               67.39  \n",
       "99                            0.46               60.12  \n",
       "\n",
       "[100 rows x 5 columns]"
      ]
     },
     "execution_count": 3,
     "metadata": {},
     "output_type": "execute_result"
    }
   ],
   "source": [
    "df=pd.read_csv('https://raw.githubusercontent.com/dissabnd/CH4130-Process-Optimization/refs/heads/main/Data/reactor_data.csv')\n",
    "df"
   ]
  },
  {
   "cell_type": "code",
   "execution_count": 4,
   "id": "91b0b5ec-ef8c-4847-9b8c-ae56bd956da0",
   "metadata": {},
   "outputs": [
    {
     "data": {
      "text/plain": [
       "Index(['Temperature (K)', 'Pressure (atm)', 'Flow Rate (L/min)',\n",
       "       'Catalyst Concentration (mol/L)', 'Reaction Yield (%)'],\n",
       "      dtype='object')"
      ]
     },
     "execution_count": 4,
     "metadata": {},
     "output_type": "execute_result"
    }
   ],
   "source": [
    "df.columns"
   ]
  },
  {
   "cell_type": "markdown",
   "id": "6687e88a-78da-4f9b-be03-f9cedd311bd6",
   "metadata": {},
   "source": [
    "# Part 1: Descriptive Stats (mean, median and SD)"
   ]
  },
  {
   "cell_type": "markdown",
   "id": "8800de76-5cbf-4351-87de-bdfa6790d1ab",
   "metadata": {},
   "source": [
    "# Part 2: Data Visualization\n",
    "\n",
    "Plot xy scatter plot between Reaction Yield and other variables"
   ]
  },
  {
   "cell_type": "markdown",
   "id": "357fc7bc-90ab-4281-9a7b-a28ccea87d75",
   "metadata": {},
   "source": [
    "# Part 3: Correlatoin Analysis\n",
    "\n",
    "Run pearson correlation analysis. Create a correlation matrix"
   ]
  },
  {
   "cell_type": "code",
   "execution_count": null,
   "id": "ec346bd6-15dd-4b41-8e40-646d1052dd89",
   "metadata": {},
   "outputs": [],
   "source": []
  }
 ],
 "metadata": {
  "kernelspec": {
   "display_name": "Python 3 (ipykernel)",
   "language": "python",
   "name": "python3"
  },
  "language_info": {
   "codemirror_mode": {
    "name": "ipython",
    "version": 3
   },
   "file_extension": ".py",
   "mimetype": "text/x-python",
   "name": "python",
   "nbconvert_exporter": "python",
   "pygments_lexer": "ipython3",
   "version": "3.12.11"
  }
 },
 "nbformat": 4,
 "nbformat_minor": 5
}
